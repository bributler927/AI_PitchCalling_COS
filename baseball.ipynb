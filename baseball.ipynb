{
 "cells": [
  {
   "cell_type": "code",
   "execution_count": null,
   "metadata": {},
   "outputs": [],
   "source": [
    "#still doing data cleaning to try to find out how to make this more acccurate!"
   ]
  },
  {
   "cell_type": "code",
   "execution_count": 381,
   "metadata": {},
   "outputs": [],
   "source": [
    "# scipy\n",
    "import scipy\n",
    "# numpy\n",
    "import numpy\n",
    "# matplotlib\n",
    "import matplotlib\n",
    "# pandas\n",
    "import pandas\n",
    "# statsmodels\n",
    "import statsmodels\n",
    "# scikit-learn\n",
    "import sklearn\n",
    "# theano\n",
    "#import theano\n",
    "# tensorflow\n",
    "import tensorflow\n",
    "# keras\n",
    "from tensorflow import keras\n",
    "#seaborn\n",
    "import seaborn"
   ]
  },
  {
   "cell_type": "code",
   "execution_count": 382,
   "metadata": {},
   "outputs": [],
   "source": [
    "#DATA PREPROCESSING"
   ]
  },
  {
   "cell_type": "code",
   "execution_count": 383,
   "metadata": {},
   "outputs": [],
   "source": [
    "# first neural network with keras tutorial\n",
    "from numpy import loadtxt"
   ]
  },
  {
   "cell_type": "code",
   "execution_count": 384,
   "metadata": {},
   "outputs": [],
   "source": [
    "#import pitch data \n",
    "#load the dataset\n",
    "at_bats = pandas.read_csv('2019_atbats.csv')\n",
    "pitches = pandas.read_csv('2019_pitches.csv')\n",
    "\n",
    "#combine the data so at bat result is included as well\n",
    "pitches = pitches.merge(at_bats, on='ab_id')"
   ]
  },
  {
   "cell_type": "code",
   "execution_count": 385,
   "metadata": {},
   "outputs": [
    {
     "data": {
      "text/html": [
       "<div>\n",
       "<style scoped>\n",
       "    .dataframe tbody tr th:only-of-type {\n",
       "        vertical-align: middle;\n",
       "    }\n",
       "\n",
       "    .dataframe tbody tr th {\n",
       "        vertical-align: top;\n",
       "    }\n",
       "\n",
       "    .dataframe thead th {\n",
       "        text-align: right;\n",
       "    }\n",
       "</style>\n",
       "<table border=\"1\" class=\"dataframe\">\n",
       "  <thead>\n",
       "    <tr style=\"text-align: right;\">\n",
       "      <th></th>\n",
       "      <th>px</th>\n",
       "      <th>pz</th>\n",
       "      <th>type</th>\n",
       "      <th>pitch_type</th>\n",
       "      <th>b_score</th>\n",
       "      <th>b_count</th>\n",
       "      <th>s_count</th>\n",
       "      <th>pitch_num</th>\n",
       "      <th>on_1b</th>\n",
       "      <th>on_2b</th>\n",
       "      <th>on_3b</th>\n",
       "      <th>inning</th>\n",
       "      <th>top</th>\n",
       "      <th>p_score</th>\n",
       "      <th>batter_id</th>\n",
       "      <th>pitcher_id</th>\n",
       "      <th>stand</th>\n",
       "      <th>p_throws</th>\n",
       "      <th>event</th>\n",
       "      <th>o</th>\n",
       "    </tr>\n",
       "  </thead>\n",
       "  <tbody>\n",
       "    <tr>\n",
       "      <th>0</th>\n",
       "      <td>0.00</td>\n",
       "      <td>2.15</td>\n",
       "      <td>X</td>\n",
       "      <td>FF</td>\n",
       "      <td>0.0</td>\n",
       "      <td>0.0</td>\n",
       "      <td>0.0</td>\n",
       "      <td>1.0</td>\n",
       "      <td>0.0</td>\n",
       "      <td>0.0</td>\n",
       "      <td>0.0</td>\n",
       "      <td>1.0</td>\n",
       "      <td>1.0</td>\n",
       "      <td>0.0</td>\n",
       "      <td>594777</td>\n",
       "      <td>571666</td>\n",
       "      <td>L</td>\n",
       "      <td>R</td>\n",
       "      <td>Flyout</td>\n",
       "      <td>1</td>\n",
       "    </tr>\n",
       "    <tr>\n",
       "      <th>1</th>\n",
       "      <td>0.34</td>\n",
       "      <td>2.31</td>\n",
       "      <td>C</td>\n",
       "      <td>FF</td>\n",
       "      <td>0.0</td>\n",
       "      <td>0.0</td>\n",
       "      <td>0.0</td>\n",
       "      <td>1.0</td>\n",
       "      <td>0.0</td>\n",
       "      <td>0.0</td>\n",
       "      <td>0.0</td>\n",
       "      <td>1.0</td>\n",
       "      <td>1.0</td>\n",
       "      <td>0.0</td>\n",
       "      <td>545361</td>\n",
       "      <td>571666</td>\n",
       "      <td>R</td>\n",
       "      <td>R</td>\n",
       "      <td>Flyout</td>\n",
       "      <td>2</td>\n",
       "    </tr>\n",
       "    <tr>\n",
       "      <th>2</th>\n",
       "      <td>-0.05</td>\n",
       "      <td>2.03</td>\n",
       "      <td>S</td>\n",
       "      <td>SL</td>\n",
       "      <td>0.0</td>\n",
       "      <td>0.0</td>\n",
       "      <td>0.0</td>\n",
       "      <td>2.0</td>\n",
       "      <td>0.0</td>\n",
       "      <td>0.0</td>\n",
       "      <td>0.0</td>\n",
       "      <td>1.0</td>\n",
       "      <td>1.0</td>\n",
       "      <td>0.0</td>\n",
       "      <td>545361</td>\n",
       "      <td>571666</td>\n",
       "      <td>R</td>\n",
       "      <td>R</td>\n",
       "      <td>Flyout</td>\n",
       "      <td>2</td>\n",
       "    </tr>\n",
       "    <tr>\n",
       "      <th>3</th>\n",
       "      <td>0.49</td>\n",
       "      <td>0.92</td>\n",
       "      <td>B</td>\n",
       "      <td>CH</td>\n",
       "      <td>0.0</td>\n",
       "      <td>0.0</td>\n",
       "      <td>1.0</td>\n",
       "      <td>3.0</td>\n",
       "      <td>0.0</td>\n",
       "      <td>0.0</td>\n",
       "      <td>0.0</td>\n",
       "      <td>1.0</td>\n",
       "      <td>1.0</td>\n",
       "      <td>0.0</td>\n",
       "      <td>545361</td>\n",
       "      <td>571666</td>\n",
       "      <td>R</td>\n",
       "      <td>R</td>\n",
       "      <td>Flyout</td>\n",
       "      <td>2</td>\n",
       "    </tr>\n",
       "    <tr>\n",
       "      <th>4</th>\n",
       "      <td>-0.13</td>\n",
       "      <td>1.11</td>\n",
       "      <td>B</td>\n",
       "      <td>CH</td>\n",
       "      <td>0.0</td>\n",
       "      <td>1.0</td>\n",
       "      <td>1.0</td>\n",
       "      <td>4.0</td>\n",
       "      <td>0.0</td>\n",
       "      <td>0.0</td>\n",
       "      <td>0.0</td>\n",
       "      <td>1.0</td>\n",
       "      <td>1.0</td>\n",
       "      <td>0.0</td>\n",
       "      <td>545361</td>\n",
       "      <td>571666</td>\n",
       "      <td>R</td>\n",
       "      <td>R</td>\n",
       "      <td>Flyout</td>\n",
       "      <td>2</td>\n",
       "    </tr>\n",
       "    <tr>\n",
       "      <th>...</th>\n",
       "      <td>...</td>\n",
       "      <td>...</td>\n",
       "      <td>...</td>\n",
       "      <td>...</td>\n",
       "      <td>...</td>\n",
       "      <td>...</td>\n",
       "      <td>...</td>\n",
       "      <td>...</td>\n",
       "      <td>...</td>\n",
       "      <td>...</td>\n",
       "      <td>...</td>\n",
       "      <td>...</td>\n",
       "      <td>...</td>\n",
       "      <td>...</td>\n",
       "      <td>...</td>\n",
       "      <td>...</td>\n",
       "      <td>...</td>\n",
       "      <td>...</td>\n",
       "      <td>...</td>\n",
       "      <td>...</td>\n",
       "    </tr>\n",
       "    <tr>\n",
       "      <th>728785</th>\n",
       "      <td>0.30</td>\n",
       "      <td>1.99</td>\n",
       "      <td>X</td>\n",
       "      <td>FF</td>\n",
       "      <td>1.0</td>\n",
       "      <td>2.0</td>\n",
       "      <td>0.0</td>\n",
       "      <td>4.0</td>\n",
       "      <td>0.0</td>\n",
       "      <td>0.0</td>\n",
       "      <td>0.0</td>\n",
       "      <td>9.0</td>\n",
       "      <td>1.0</td>\n",
       "      <td>4.0</td>\n",
       "      <td>622110</td>\n",
       "      <td>571704</td>\n",
       "      <td>R</td>\n",
       "      <td>R</td>\n",
       "      <td>Groundout</td>\n",
       "      <td>2</td>\n",
       "    </tr>\n",
       "    <tr>\n",
       "      <th>728786</th>\n",
       "      <td>1.00</td>\n",
       "      <td>-0.38</td>\n",
       "      <td>B</td>\n",
       "      <td>SL</td>\n",
       "      <td>1.0</td>\n",
       "      <td>0.0</td>\n",
       "      <td>0.0</td>\n",
       "      <td>1.0</td>\n",
       "      <td>0.0</td>\n",
       "      <td>0.0</td>\n",
       "      <td>0.0</td>\n",
       "      <td>9.0</td>\n",
       "      <td>1.0</td>\n",
       "      <td>4.0</td>\n",
       "      <td>605421</td>\n",
       "      <td>571704</td>\n",
       "      <td>L</td>\n",
       "      <td>R</td>\n",
       "      <td>Strikeout</td>\n",
       "      <td>3</td>\n",
       "    </tr>\n",
       "    <tr>\n",
       "      <th>728787</th>\n",
       "      <td>0.36</td>\n",
       "      <td>2.02</td>\n",
       "      <td>C</td>\n",
       "      <td>FF</td>\n",
       "      <td>1.0</td>\n",
       "      <td>1.0</td>\n",
       "      <td>0.0</td>\n",
       "      <td>2.0</td>\n",
       "      <td>0.0</td>\n",
       "      <td>0.0</td>\n",
       "      <td>0.0</td>\n",
       "      <td>9.0</td>\n",
       "      <td>1.0</td>\n",
       "      <td>4.0</td>\n",
       "      <td>605421</td>\n",
       "      <td>571704</td>\n",
       "      <td>L</td>\n",
       "      <td>R</td>\n",
       "      <td>Strikeout</td>\n",
       "      <td>3</td>\n",
       "    </tr>\n",
       "    <tr>\n",
       "      <th>728788</th>\n",
       "      <td>-0.26</td>\n",
       "      <td>2.60</td>\n",
       "      <td>C</td>\n",
       "      <td>SL</td>\n",
       "      <td>1.0</td>\n",
       "      <td>1.0</td>\n",
       "      <td>0.0</td>\n",
       "      <td>3.0</td>\n",
       "      <td>0.0</td>\n",
       "      <td>0.0</td>\n",
       "      <td>0.0</td>\n",
       "      <td>9.0</td>\n",
       "      <td>1.0</td>\n",
       "      <td>4.0</td>\n",
       "      <td>605421</td>\n",
       "      <td>571704</td>\n",
       "      <td>L</td>\n",
       "      <td>R</td>\n",
       "      <td>Strikeout</td>\n",
       "      <td>3</td>\n",
       "    </tr>\n",
       "    <tr>\n",
       "      <th>728789</th>\n",
       "      <td>0.22</td>\n",
       "      <td>1.06</td>\n",
       "      <td>S</td>\n",
       "      <td>SL</td>\n",
       "      <td>1.0</td>\n",
       "      <td>1.0</td>\n",
       "      <td>0.0</td>\n",
       "      <td>4.0</td>\n",
       "      <td>0.0</td>\n",
       "      <td>0.0</td>\n",
       "      <td>0.0</td>\n",
       "      <td>9.0</td>\n",
       "      <td>1.0</td>\n",
       "      <td>4.0</td>\n",
       "      <td>605421</td>\n",
       "      <td>571704</td>\n",
       "      <td>L</td>\n",
       "      <td>R</td>\n",
       "      <td>Strikeout</td>\n",
       "      <td>3</td>\n",
       "    </tr>\n",
       "  </tbody>\n",
       "</table>\n",
       "<p>728790 rows × 20 columns</p>\n",
       "</div>"
      ],
      "text/plain": [
       "          px    pz type pitch_type  b_score  b_count  s_count  pitch_num  \\\n",
       "0       0.00  2.15    X         FF      0.0      0.0      0.0        1.0   \n",
       "1       0.34  2.31    C         FF      0.0      0.0      0.0        1.0   \n",
       "2      -0.05  2.03    S         SL      0.0      0.0      0.0        2.0   \n",
       "3       0.49  0.92    B         CH      0.0      0.0      1.0        3.0   \n",
       "4      -0.13  1.11    B         CH      0.0      1.0      1.0        4.0   \n",
       "...      ...   ...  ...        ...      ...      ...      ...        ...   \n",
       "728785  0.30  1.99    X         FF      1.0      2.0      0.0        4.0   \n",
       "728786  1.00 -0.38    B         SL      1.0      0.0      0.0        1.0   \n",
       "728787  0.36  2.02    C         FF      1.0      1.0      0.0        2.0   \n",
       "728788 -0.26  2.60    C         SL      1.0      1.0      0.0        3.0   \n",
       "728789  0.22  1.06    S         SL      1.0      1.0      0.0        4.0   \n",
       "\n",
       "        on_1b  on_2b  on_3b  inning  top  p_score  batter_id  pitcher_id  \\\n",
       "0         0.0    0.0    0.0     1.0  1.0      0.0     594777      571666   \n",
       "1         0.0    0.0    0.0     1.0  1.0      0.0     545361      571666   \n",
       "2         0.0    0.0    0.0     1.0  1.0      0.0     545361      571666   \n",
       "3         0.0    0.0    0.0     1.0  1.0      0.0     545361      571666   \n",
       "4         0.0    0.0    0.0     1.0  1.0      0.0     545361      571666   \n",
       "...       ...    ...    ...     ...  ...      ...        ...         ...   \n",
       "728785    0.0    0.0    0.0     9.0  1.0      4.0     622110      571704   \n",
       "728786    0.0    0.0    0.0     9.0  1.0      4.0     605421      571704   \n",
       "728787    0.0    0.0    0.0     9.0  1.0      4.0     605421      571704   \n",
       "728788    0.0    0.0    0.0     9.0  1.0      4.0     605421      571704   \n",
       "728789    0.0    0.0    0.0     9.0  1.0      4.0     605421      571704   \n",
       "\n",
       "       stand p_throws      event  o  \n",
       "0          L        R     Flyout  1  \n",
       "1          R        R     Flyout  2  \n",
       "2          R        R     Flyout  2  \n",
       "3          R        R     Flyout  2  \n",
       "4          R        R     Flyout  2  \n",
       "...      ...      ...        ... ..  \n",
       "728785     R        R  Groundout  2  \n",
       "728786     L        R  Strikeout  3  \n",
       "728787     L        R  Strikeout  3  \n",
       "728788     L        R  Strikeout  3  \n",
       "728789     L        R  Strikeout  3  \n",
       "\n",
       "[728790 rows x 20 columns]"
      ]
     },
     "execution_count": 385,
     "metadata": {},
     "output_type": "execute_result"
    }
   ],
   "source": [
    "#remove columns of variables that are not directly controllable/not directly involved in pitch calling process\n",
    "\n",
    "pitches = pitches.drop(columns = ['start_speed', 'end_speed', 'spin_rate', 'spin_dir', 'break_angle', 'break_length', 'outs', 'pfx_x'])\n",
    "pitches = pitches.drop(columns =['code', 'zone', 'type_confidence', 'ab_id', 'g_id', 'nasty', 'break_y', 'event_num', 'pfx_z'])\n",
    "pitches = pitches.drop(columns =['vx0', 'vy0', 'vz0', 'x0', 'y0', 'z0', 'sz_bot', 'sz_top', 'ax', 'ay', 'az', 'x', 'y'])\n",
    "pitches"
   ]
  },
  {
   "cell_type": "code",
   "execution_count": 386,
   "metadata": {},
   "outputs": [],
   "source": [
    "#remove each pitch where pitch type was not recorded\n",
    "pitches = pitches[pitches.pitch_type != False]\n",
    "pitches = pitches.dropna()\n",
    "pitches = pitches.drop(columns = ['batter_id', 'pitcher_id'])\n",
    "\n",
    "#remove each pitch where the inning ending outs were runner involved outs\n",
    "pitches = pitches[pitches.event != 'Caught Stealing 2B'] \n",
    "pitches = pitches[pitches.event != 'Caught Stealing 3B'] \n",
    "pitches = pitches[pitches.event != 'Caught Stealing Home'] \n",
    "pitches = pitches[pitches.event != 'Pickoff Caught Stealing 2B']\n",
    "pitches = pitches[pitches.event != 'Pickoff Caught Stealing Home']\n",
    "pitches = pitches[pitches.event != 'Pickoff Caught Stealing 3B']\n",
    "pitches = pitches[pitches.event != 'Pickoff 1B']\n",
    "pitches = pitches[pitches.event != 'Pickoff Error 1B']\n",
    "pitches = pitches[pitches.event != 'Pickoff 2B']\n",
    "pitches = pitches[pitches.event != 'Pickoff 3B']\n",
    "pitches = pitches[pitches.event != 'Batter Interference']\n",
    "pitches = pitches[pitches.event != 'Catcher Interference']\n",
    "pitches = pitches[pitches.event != 'Fan Interference']\n",
    "pitches = pitches[pitches.event != 'Wild Pitch']\n",
    "pitches = pitches[pitches.event != 'Runner Out']\n",
    "pitches = pitches[pitches.event != 'Game Advisory']\n",
    "pitches = pitches[pitches.event != 'Passed Ball']\n",
    "pitches = pitches[pitches.event != 'Stolen Base 2B']"
   ]
  },
  {
   "cell_type": "code",
   "execution_count": 387,
   "metadata": {},
   "outputs": [
    {
     "data": {
      "text/html": [
       "<div>\n",
       "<style scoped>\n",
       "    .dataframe tbody tr th:only-of-type {\n",
       "        vertical-align: middle;\n",
       "    }\n",
       "\n",
       "    .dataframe tbody tr th {\n",
       "        vertical-align: top;\n",
       "    }\n",
       "\n",
       "    .dataframe thead th {\n",
       "        text-align: right;\n",
       "    }\n",
       "</style>\n",
       "<table border=\"1\" class=\"dataframe\">\n",
       "  <thead>\n",
       "    <tr style=\"text-align: right;\">\n",
       "      <th></th>\n",
       "      <th>px</th>\n",
       "      <th>pz</th>\n",
       "      <th>type</th>\n",
       "      <th>pitch_type</th>\n",
       "      <th>b_score</th>\n",
       "      <th>b_count</th>\n",
       "      <th>s_count</th>\n",
       "      <th>pitch_num</th>\n",
       "      <th>on_1b</th>\n",
       "      <th>on_2b</th>\n",
       "      <th>on_3b</th>\n",
       "      <th>inning</th>\n",
       "      <th>top</th>\n",
       "      <th>p_score</th>\n",
       "      <th>stand</th>\n",
       "      <th>p_throws</th>\n",
       "      <th>event</th>\n",
       "      <th>o</th>\n",
       "    </tr>\n",
       "  </thead>\n",
       "  <tbody>\n",
       "  </tbody>\n",
       "</table>\n",
       "</div>"
      ],
      "text/plain": [
       "Empty DataFrame\n",
       "Columns: [px, pz, type, pitch_type, b_score, b_count, s_count, pitch_num, on_1b, on_2b, on_3b, inning, top, p_score, stand, p_throws, event, o]\n",
       "Index: []"
      ]
     },
     "execution_count": 387,
     "metadata": {},
     "output_type": "execute_result"
    }
   ],
   "source": [
    "pitches = pitches.replace(['Triple Play', 'Runner Double Play', 'Sac Fly Double Play', 'Bunt Lineout', 'Bunt Pop Out', 'Bunt Groundout', 'Field Error', 'Strikeout Double Play', 'Double Play', 'Sac Bunt Double Play', 'Forceout', 'Flyout', 'Strikeout', 'Groundout', 'Pop Out', 'Lineout', 'Fielders Choice Out', 'Grounded Into DP', \"Fielders Choice\"], 1)\n",
    "pitches = pitches.replace(['Intent Walk', 'Sac Bunt', 'Single', 'Double', 'Hit By Pitch', 'Walk', 'Triple', 'Home Run', 'Sac Fly'], 0)\n",
    "pitches[pitches.event.apply(isinstance, args=(str,))]\n"
   ]
  },
  {
   "cell_type": "code",
   "execution_count": 388,
   "metadata": {},
   "outputs": [
    {
     "name": "stdout",
     "output_type": "stream",
     "text": [
      "     px    pz type pitch_type  b_score  b_count  s_count  pitch_num  on_1b  \\\n",
      "0  0.00  2.15    X         FF      0.0      0.0      0.0        1.0    0.0   \n",
      "1  0.34  2.31    C         FF      0.0      0.0      0.0        1.0    0.0   \n",
      "2 -0.05  2.03    S         SL      0.0      0.0      0.0        2.0    0.0   \n",
      "3  0.49  0.92    B         CH      0.0      0.0      1.0        3.0    0.0   \n",
      "4 -0.13  1.11    B         CH      0.0      1.0      1.0        4.0    0.0   \n",
      "\n",
      "   on_2b  on_3b  inning  top  p_score stand p_throws  o  event  \n",
      "0    0.0    0.0     1.0  1.0      0.0     L        R  1      1  \n",
      "1    0.0    0.0     1.0  1.0      0.0     R        R  2      1  \n",
      "2    0.0    0.0     1.0  1.0      0.0     R        R  2      1  \n",
      "3    0.0    0.0     1.0  1.0      0.0     R        R  2      1  \n",
      "4    0.0    0.0     1.0  1.0      0.0     R        R  2      1  \n"
     ]
    }
   ],
   "source": [
    "#move event column to the end for variable definition purposes\n",
    "event = pitches.pop(\"event\")\n",
    "\n",
    "# insert column with insert(location, column_name, column_value)\n",
    "cols = len(pitches.columns)\n",
    "pitches.insert(cols, \"event\", event)\n",
    "\n",
    "pandas.set_option('display.max_columns', None)\n",
    "print(pitches.head())\n",
    "\n",
    "x = pitches.iloc[:, 0:cols].values\n",
    "y = pitches.iloc[:, cols].values"
   ]
  },
  {
   "cell_type": "code",
   "execution_count": 389,
   "metadata": {},
   "outputs": [
    {
     "name": "stdout",
     "output_type": "stream",
     "text": [
      "[[0.0 2.15 'X' ... 0 1 1]\n",
      " [0.34 2.31 'C' ... 1 1 2]\n",
      " [-0.05 2.03 'S' ... 1 1 2]\n",
      " ...\n",
      " [0.36 2.02 'C' ... 0 1 3]\n",
      " [-0.26 2.6 'C' ... 0 1 3]\n",
      " [0.22 1.06 'S' ... 0 1 3]]\n"
     ]
    }
   ],
   "source": [
    "#Encode String Data\n",
    "from sklearn.preprocessing import LabelEncoder, OneHotEncoder\n",
    "\n",
    "#encode batter handedness\n",
    "labelencoder_X_neg2 = LabelEncoder()\n",
    "x[:, -2] = labelencoder_X_neg2.fit_transform(x[:, -2])\n",
    "\n",
    "#encode pitcher handedness\n",
    "labelencoder_X_neg3 = LabelEncoder()\n",
    "x[:, -3] = labelencoder_X_neg3.fit_transform(x[:, -3])\n",
    "print(x)\n"
   ]
  },
  {
   "cell_type": "code",
   "execution_count": 390,
   "metadata": {},
   "outputs": [],
   "source": [
    "#use onehotencoder for dummy variables (type and pitch_type)\n",
    "from sklearn.compose import ColumnTransformer\n",
    "# Type column\n",
    "ct = ColumnTransformer([(\"type\", OneHotEncoder(), [2])], remainder = 'passthrough')\n",
    "x = ct.fit_transform(x)\n",
    "\n",
    "ct3 = ColumnTransformer([(\"pitch_type\", OneHotEncoder(), [-14])], remainder = 'passthrough')\n",
    "x = ct3.fit_transform(x)"
   ]
  },
  {
   "cell_type": "code",
   "execution_count": 391,
   "metadata": {},
   "outputs": [
    {
     "data": {
      "text/plain": [
       "array([[0.0, 0.0, 0.0, ..., 0, 1, 1],\n",
       "       [0.0, 0.0, 0.0, ..., 1, 1, 2],\n",
       "       [0.0, 0.0, 0.0, ..., 1, 1, 2],\n",
       "       ...,\n",
       "       [0.0, 0.0, 0.0, ..., 0, 1, 3],\n",
       "       [0.0, 0.0, 0.0, ..., 0, 1, 3],\n",
       "       [0.0, 0.0, 0.0, ..., 0, 1, 3]], dtype=object)"
      ]
     },
     "execution_count": 391,
     "metadata": {},
     "output_type": "execute_result"
    }
   ],
   "source": [
    "x"
   ]
  },
  {
   "cell_type": "code",
   "execution_count": 392,
   "metadata": {},
   "outputs": [],
   "source": [
    "# Splitting the dataset into the Training set and Test set\n",
    "from sklearn.model_selection import train_test_split\n",
    "x_train, x_test, y_train, y_test = train_test_split(x, y, test_size = 0.2)"
   ]
  },
  {
   "cell_type": "code",
   "execution_count": 393,
   "metadata": {},
   "outputs": [],
   "source": [
    "# Feature Scaling\n",
    "from sklearn.preprocessing import StandardScaler\n",
    "sc = StandardScaler()\n",
    "x_train = sc.fit_transform(x_train)\n",
    "x_test = sc.transform(x_test)"
   ]
  },
  {
   "cell_type": "code",
   "execution_count": 394,
   "metadata": {},
   "outputs": [],
   "source": [
    "#NEURAL NETWORK"
   ]
  },
  {
   "cell_type": "code",
   "execution_count": 395,
   "metadata": {},
   "outputs": [],
   "source": [
    "# Importing the Keras libraries and packages\n",
    "from tensorflow.keras.models import Sequential\n",
    "from tensorflow.keras.layers import Dense"
   ]
  },
  {
   "cell_type": "code",
   "execution_count": 396,
   "metadata": {},
   "outputs": [],
   "source": [
    "#Initializing Neural Network\n",
    "classifier = Sequential()"
   ]
  },
  {
   "cell_type": "code",
   "execution_count": 397,
   "metadata": {},
   "outputs": [
    {
     "name": "stdout",
     "output_type": "stream",
     "text": [
      "43\n"
     ]
    }
   ],
   "source": [
    "cols = len(x[0])\n",
    "print(cols)"
   ]
  },
  {
   "cell_type": "code",
   "execution_count": 398,
   "metadata": {},
   "outputs": [],
   "source": [
    "# Adding the input layer and the first hidden layer\n",
    "classifier.add(Dense(6, activation = 'relu', input_dim = cols))\n",
    "# Adding the second hidden layer\n",
    "classifier.add(Dense(6, activation = 'relu'))\n",
    "# Adding the output layer\n",
    "classifier.add(Dense(1, activation = 'sigmoid'))"
   ]
  },
  {
   "cell_type": "code",
   "execution_count": 399,
   "metadata": {},
   "outputs": [],
   "source": [
    "# Compiling Neural Network\n",
    "# our dependent variable has more than 2 categories in output so use ‘categorical_crossentropy’\n",
    "classifier.compile(optimizer = 'adam', loss = 'binary_crossentropy', metrics = ['accuracy'])"
   ]
  },
  {
   "cell_type": "code",
   "execution_count": 400,
   "metadata": {},
   "outputs": [],
   "source": [
    "# Predicting the Test set results\n",
    "y_pred = classifier.predict(x_test)\n",
    "y_pred = (y_pred > 0.5)"
   ]
  },
  {
   "cell_type": "code",
   "execution_count": 401,
   "metadata": {},
   "outputs": [],
   "source": [
    "# Creating the Confusion Matrix\n",
    "from sklearn.metrics import confusion_matrix\n",
    "cm = confusion_matrix(y_test, y_pred)"
   ]
  },
  {
   "cell_type": "code",
   "execution_count": 402,
   "metadata": {},
   "outputs": [
    {
     "data": {
      "text/plain": [
       "array([[26687, 21372],\n",
       "       [61515, 34574]])"
      ]
     },
     "execution_count": 402,
     "metadata": {},
     "output_type": "execute_result"
    }
   ],
   "source": [
    "cm"
   ]
  },
  {
   "cell_type": "code",
   "execution_count": 403,
   "metadata": {},
   "outputs": [],
   "source": [
    "import matplotlib.pyplot as plt"
   ]
  },
  {
   "cell_type": "code",
   "execution_count": 404,
   "metadata": {},
   "outputs": [
    {
     "data": {
      "image/png": "[encoded data removed]",
      "text/plain": [
       "<Figure size 504x504 with 2 Axes>"
      ]
     },
     "metadata": {},
     "output_type": "display_data"
    }
   ],
   "source": [
    "array = cm\n",
    "\n",
    "df_cm = pandas.DataFrame(array, range(2), range(2))\n",
    "seaborn.set(font_scale=1.4) # for label size\n",
    "plt.figure(figsize = (7,7))\n",
    "seaborn.heatmap(df_cm, annot=True, annot_kws={\"size\": 16}) # font size\n",
    "\n",
    "plt.show()"
   ]
  },
  {
   "cell_type": "code",
   "execution_count": null,
   "metadata": {},
   "outputs": [],
   "source": []
  },
  {
   "cell_type": "code",
   "execution_count": null,
   "metadata": {},
   "outputs": [],
   "source": []
  },
  {
   "cell_type": "code",
   "execution_count": null,
   "metadata": {},
   "outputs": [],
   "source": []
  },
  {
   "cell_type": "code",
   "execution_count": null,
   "metadata": {},
   "outputs": [],
   "source": []
  }
 ],
 "metadata": {
  "kernelspec": {
   "display_name": "Python 3",
   "language": "python",
   "name": "python3"
  },
  "language_info": {
   "codemirror_mode": {
    "name": "ipython",
    "version": 3
   },
   "file_extension": ".py",
   "mimetype": "text/x-python",
   "name": "python",
   "nbconvert_exporter": "python",
   "pygments_lexer": "ipython3",
   "version": "3.8.3"
  }
 },
 "nbformat": 4,
 "nbformat_minor": 4
}
